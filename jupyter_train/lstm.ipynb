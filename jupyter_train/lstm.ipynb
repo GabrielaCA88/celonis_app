{
  "cells": [
    {
      "cell_type": "markdown",
      "source": [
        "Imports"
      ],
      "metadata": {
        "id": "Jezh3X_Fad-b"
      }
    },
    {
      "cell_type": "code",
      "execution_count": null,
      "metadata": {
        "id": "GJiE7xTJBTzw"
      },
      "outputs": [],
      "source": [
        "import nltk\n",
        "nltk.download('stopwords')\n",
        "nltk.download('averaged_perceptron_tagger')\n",
        "nltk.download('wordnet')\n",
        "nltk.download('punkt')\n",
        "#from nltk.corpus import stopwords\n",
        "from nltk.tokenize import WordPunctTokenizer\n",
        "tok = WordPunctTokenizer()\n",
        "from nltk.corpus import stopwords\n",
        "stop_words = set(stopwords.words('english'))\n",
        "import re\n",
        "import pandas as pd\n",
        "from google.colab import drive"
      ]
    },
    {
      "cell_type": "code",
      "execution_count": null,
      "metadata": {
        "id": "ed98bsas0IQ6"
      },
      "outputs": [],
      "source": [
        "from string import punctuation\n",
        "from os import listdir\n",
        "from numpy import array\n",
        "from numpy import asarray\n",
        "from numpy import zeros\n",
        "from keras.preprocessing.text import Tokenizer\n",
        "from keras.preprocessing.sequence import pad_sequences\n",
        "from keras.models import Sequential\n",
        "from keras.layers import Dense\n",
        "from keras.layers import Flatten\n",
        "from keras.layers import Embedding\n",
        "from keras.layers.convolutional import Conv1D\n",
        "from keras.layers.convolutional import MaxPooling1D\n",
        "import tensorflow as tf\n",
        "\n",
        "from tensorflow.keras.models import Sequential,Model\n",
        "from tensorflow.keras.layers import Dense, LSTM, Embedding,Dropout,SpatialDropout1D,Conv1D,MaxPooling1D,GRU,BatchNormalization\n",
        "from tensorflow.keras.layers import Input,Bidirectional,GlobalAveragePooling1D,GlobalMaxPooling1D,concatenate,LeakyReLU\n",
        "from tensorflow.keras import regularizers\n",
        "from tensorflow.keras import backend as K"
      ]
    },
    {
      "cell_type": "code",
      "execution_count": null,
      "metadata": {
        "colab": {
          "base_uri": "https://localhost:8080/"
        },
        "id": "lGnheXId0Nor",
        "outputId": "7b647af0-2be7-4c14-c6e6-4c723813573a"
      },
      "outputs": [
        {
          "output_type": "stream",
          "name": "stdout",
          "text": [
            "Mounted at /content/gdrive\n"
          ]
        }
      ],
      "source": [
        "drive.mount('/content/gdrive')"
      ]
    },
    {
      "cell_type": "code",
      "execution_count": null,
      "metadata": {
        "id": "DdjWuCxW0mLi"
      },
      "outputs": [],
      "source": [
        "#df = pd.read_csv ('/content/gdrive/MyDrive/Celonis/labelled_text.csv', encoding='latin-1', names = ['dunno', 'origin', 'sentiment', 'text'])\n",
        "df = pd.read_csv ('/content/gdrive/MyDrive/Celonis/pluskaggle.csv')\n",
        "df = df.sample(frac=1).reset_index(drop=True) #shuffle"
      ]
    },
    {
      "cell_type": "code",
      "execution_count": null,
      "metadata": {
        "id": "M_JLg1BWTxKY"
      },
      "outputs": [],
      "source": [
        "from io import StringIO\n",
        "col = ['origin','sentiment', 'text']\n",
        "df = df[col]\n",
        "df = df[pd.notnull(df['text'])]"
      ]
    },
    {
      "cell_type": "code",
      "execution_count": null,
      "metadata": {
        "colab": {
          "base_uri": "https://localhost:8080/"
        },
        "id": "Im6Jy7VojiLs",
        "outputId": "7db7604e-6d56-4e3a-de0a-e66ff457a29d"
      },
      "outputs": [
        {
          "output_type": "stream",
          "name": "stdout",
          "text": [
            "{0: 'Irrelevant', 1: 'Positive', 2: 'Negative'}\n"
          ]
        },
        {
          "output_type": "stream",
          "name": "stderr",
          "text": [
            "/usr/local/lib/python3.7/dist-packages/ipykernel_launcher.py:2: SettingWithCopyWarning: \n",
            "A value is trying to be set on a copy of a slice from a DataFrame.\n",
            "Try using .loc[row_indexer,col_indexer] = value instead\n",
            "\n",
            "See the caveats in the documentation: https://pandas.pydata.org/pandas-docs/stable/user_guide/indexing.html#returning-a-view-versus-a-copy\n",
            "  \n"
          ]
        }
      ],
      "source": [
        "df.columns = ['origin', 'sentiment', 'text']\n",
        "df['sentiment_id'] = df['sentiment'].factorize()[0]\n",
        "sentiment_id_df = df[['sentiment', 'sentiment_id']].drop_duplicates().sort_values('sentiment_id')\n",
        "sentiment_to_id = dict(sentiment_id_df.values)\n",
        "id_to_sentiment = dict(sentiment_id_df[['sentiment_id', 'sentiment']].values)\n",
        "#df.head()\n",
        "print (id_to_sentiment)"
      ]
    },
    {
      "cell_type": "markdown",
      "metadata": {
        "id": "agU8Yhb4t1nl"
      },
      "source": [
        "Limpieza de datos"
      ]
    },
    {
      "cell_type": "code",
      "execution_count": null,
      "metadata": {
        "id": "JfqhiLwpYiiC"
      },
      "outputs": [],
      "source": [
        "from nltk.stem import WordNetLemmatizer\n",
        "wordnet_lemmatizer = WordNetLemmatizer()\n",
        "from nltk.corpus import wordnet\n",
        "\n",
        "#Preparo las funciones para normalizar, lematizar y eliminar stopwords. \n",
        "\n",
        "def get_wordnet_pos(word):\n",
        "    \"\"\"Map POS tag to first character lemmatize() accepts\"\"\"\n",
        "    tag = nltk.pos_tag([word])[0][1][0].upper()\n",
        "    tag_dict = {\"J\": wordnet.ADJ,\n",
        "                \"N\": wordnet.NOUN,\n",
        "                \"V\": wordnet.VERB,\n",
        "                \"R\": wordnet.ADV}\n",
        "\n",
        "    return tag_dict.get(tag, wordnet.NOUN)"
      ]
    },
    {
      "cell_type": "code",
      "execution_count": null,
      "metadata": {
        "id": "dUbVKyVuv4Qn"
      },
      "outputs": [],
      "source": [
        "pat1 = r'http[^ ]+' # pattern to remove links\n",
        "pat2 = r'www.[^ ]+' # pattern to remove links\n",
        "pat3 = '[^a-zA-Z]+' # pattern to remove numbers\n",
        "pat = r'|'.join((pat1, pat2, pat3))\n",
        "\n",
        "filtrar=['borderlands', 'callofdutyblackopscoldwar', 'amazon', 'overwatch', 'xbox(xseries)', 'nba2k', 'dota2', 'playstation5(ps5)', 'worldofcraft', 'csgo', 'google', 'assassinscreed', 'apexlegends',\n",
        "       'leagueoflegends', 'fortnite', 'microsoft', 'hearthstone', 'battlefield', 'playerunknownsbattlegrounds(pubg)', 'verizon', 'homedepot', 'fifa', 'reddeadredemption(rdr)', 'callofduty',\n",
        "       'tomclancysrainbowsix', 'facebook', 'grandtheftauto(gta)', 'maddennfl', 'johnson&johnson', 'cyberpunk2077', 'tomclancysghostrecon', 'nvidia']\n",
        "\n",
        "filtrar2=['borderlands', 'callofdutyblackopscoldwar', 'amazon', 'overwatch', 'xbox(xseries)', 'nba2k', 'dota2', 'playstation5(ps5)', 'worldofcraft', 'csgo', 'google', 'assassinscreed', 'apexlegends',\n",
        "       'leagueoflegends', 'fortnite', 'microsoft', 'hearthstone', 'battlefield', 'playerunknownsbattlegrounds(pubg)', 'verizon', 'homedepot', 'fifa', 'reddeadredemption(rdr)', 'callofduty',\n",
        "       'tomclancysrainbowsix', 'facebook', 'grandtheftauto(gta)', 'maddennfl', 'johnson&johnson', 'cyberpunk2077', 'tomclancysghostrecon', 'nvidia', 'game']\n",
        "\n",
        "games_origin = ['borderlands', 'callofdutyblackopscoldwar','overwatch', 'nba2k','dota2', 'worldofcraft', 'csgo', 'assassinscreed', 'apexlegends', \n",
        "                'leagueoflegends', 'fortnite', 'hearthstone', 'battlefield', 'playerunknownsbattlegrounds(pubg)', 'fifa', 'reddeadredemption(rdr)', 'callofduty',\n",
        "                'tomclancysrainbowsix','grandtheftauto(gta)', 'maddennfl', 'cyberpunk2077', 'tomclancysghostrecon']\n",
        "\n",
        "def get_clean_text (origin, text):\n",
        "    origin = str (origin)\n",
        "    origin = origin.lower()\n",
        "    text = str (text)\n",
        "    text = text.lower() # lowercase\n",
        "    if origin in games_origin:\n",
        "      text = re.sub(pat, ' ', text) # remove pat\n",
        "      text = [w for w in tok.tokenize(text) if not w in stop_words] # remove stop_words\n",
        "      text = [w for w in text if w not in filtrar2]\n",
        "      text = [w for w in text if len(w)>2] # remove words with len <2\n",
        "      text = [wordnet_lemmatizer.lemmatize(w, get_wordnet_pos(w)) for w in text] # Aplicamos el Lemmatizer\n",
        "      text = (' '.join(text)).strip() # list to string\n",
        "    else:\n",
        "      text = re.sub(pat, ' ', text) # remove pat\n",
        "      text = [w for w in tok.tokenize(text) if not w in stop_words] # remove stop_words\n",
        "      text = [w for w in text if w not in filtrar]\n",
        "      text = [w for w in text if len(w)>2] # remove words with len <2\n",
        "      text = [wordnet_lemmatizer.lemmatize(w, get_wordnet_pos(w)) for w in text] # Aplicamos el Lemmatizer\n",
        "      text = (' '.join(text)).strip() # list to string      \n",
        "    return text"
      ]
    },
    {
      "cell_type": "code",
      "execution_count": null,
      "metadata": {
        "id": "otMdo0ETYpX_"
      },
      "outputs": [],
      "source": [
        "df['text_clean'] = df.apply(lambda x: get_clean_text(x.origin, x.text), axis=1)\n",
        "df.drop_duplicates(subset='text_clean', keep=\"first\", inplace=True)"
      ]
    },
    {
      "cell_type": "code",
      "execution_count": null,
      "metadata": {
        "id": "bvzaAjIpvpb7"
      },
      "outputs": [],
      "source": [
        "batch_size = 524\n",
        "embedding_dim = 50 # embedding dimension. This is the word vector representation size\n",
        "trunc_type = 'post' # in case of exceeding \"max_length\", then truncate the sequence.\n",
        "padding_type = 'post' # in case of not fulfilling \"max_length\", then add zeroes in the the sequence.\n",
        "oov_tok = '<OOV>' # code for unseen tokens"
      ]
    },
    {
      "cell_type": "markdown",
      "source": [
        "Transformation (Categorical, tokenization and padding)"
      ],
      "metadata": {
        "id": "f9ul5rIIHrAo"
      }
    },
    {
      "cell_type": "code",
      "execution_count": null,
      "metadata": {
        "id": "4XrGJA3JmoLh"
      },
      "outputs": [],
      "source": [
        "from keras.utils.np_utils import to_categorical\n",
        "y = df['sentiment_id']\n",
        "y_cat = to_categorical(y)"
      ]
    },
    {
      "cell_type": "code",
      "execution_count": null,
      "metadata": {
        "id": "BVQLwiGAcxGc"
      },
      "outputs": [],
      "source": [
        "from sklearn.model_selection import train_test_split\n",
        "X_train, X_test, y_train, y_test = train_test_split(\n",
        "    df.text_clean, y_cat, test_size = 0.20, stratify=y_cat, random_state = 12)"
      ]
    },
    {
      "cell_type": "code",
      "execution_count": null,
      "metadata": {
        "id": "AYnC3X0_Gt_P"
      },
      "outputs": [],
      "source": [
        "# As opposose to labels, Tokenizer for text has to be parametrized\n",
        "tokenizer = Tokenizer(oov_token=oov_tok) #I want \"OOV\" in bracket to be used to for words that are not in the word index.\n",
        "tokenizer.fit_on_texts(X_train) # fit will return a dictionary\n",
        "word_index = tokenizer.word_index # save indexes for reverse transformation\n",
        "# sequence encode\n",
        "encoded_docs_train = tokenizer.texts_to_sequences(X_train)\n",
        "encoded_docs_test = tokenizer.texts_to_sequences(X_test)\n",
        "# pad sequences\n",
        "max_length = max([len(s.split()) for s in X_train])\n",
        "X_train_pad = pad_sequences(encoded_docs_train, maxlen=max_length, padding='post')\n",
        "X_test_pad = pad_sequences(encoded_docs_test, maxlen=max_length, padding='post')"
      ]
    },
    {
      "cell_type": "code",
      "source": [
        "import io\n",
        "import json\n",
        "from keras_preprocessing.text import tokenizer_from_json\n",
        "\n",
        "# store the text tokenizer\n",
        "text_tokenizer_json = tokenizer.to_json()\n",
        "with io.open('text_tokenizer.json', 'w', encoding='utf-8') as f:\n",
        "    f.write(json.dumps(text_tokenizer_json, ensure_ascii=False))"
      ],
      "metadata": {
        "id": "F_Apo2FBpuhA"
      },
      "execution_count": 54,
      "outputs": []
    },
    {
      "cell_type": "code",
      "execution_count": null,
      "metadata": {
        "id": "IT9dC1TaGtMf"
      },
      "outputs": [],
      "source": [
        "# define vocabulary size (largest integer value)\n",
        "vocab_size = len(tokenizer.word_index) + 1"
      ]
    },
    {
      "cell_type": "markdown",
      "source": [
        "Necessary functions to load and prepare embeddings"
      ],
      "metadata": {
        "id": "Slv6fX8YH76P"
      }
    },
    {
      "cell_type": "code",
      "execution_count": null,
      "metadata": {
        "id": "3BNFMexLHDkh"
      },
      "outputs": [],
      "source": [
        "# load embedding as a dict\n",
        "def load_embedding(filename):\n",
        "\t# load embedding into memory, skip first line\n",
        "\tfile = open(filename,'r')\n",
        "\tlines = file.readlines()\n",
        "\tfile.close()\n",
        "\t# create a map of words to vectors\n",
        "\tembedding = dict()\n",
        "\tfor line in lines:\n",
        "\t\tparts = line.split()\n",
        "\t\t# key is string word, value is numpy array for vector\n",
        "\t\tembedding[parts[0]] = asarray(parts[1:], dtype='float32')\n",
        "\treturn embedding"
      ]
    },
    {
      "cell_type": "code",
      "execution_count": null,
      "metadata": {
        "id": "OqCN6MgsHNgu"
      },
      "outputs": [],
      "source": [
        "# create a weight matrix for the Embedding layer from a loaded embedding\n",
        "def get_weight_matrix(embedding, vocab):\n",
        "\t# total vocabulary size plus 0 for unknown words\n",
        "\tvocab_size = len(vocab) + 1\n",
        "\t# define weight matrix dimensions with all 0\n",
        "\tweight_matrix = zeros((vocab_size, 50))\n",
        "\t# step vocab, store vectors using the Tokenizer's integer mapping\n",
        "\tfor word, i in vocab.items():\n",
        "\t\tvector = embedding.get(word)\n",
        "\t\tif vector is not None:\n",
        "\t\t\tweight_matrix[i] = vector\n",
        "\treturn weight_matrix"
      ]
    },
    {
      "cell_type": "code",
      "execution_count": null,
      "metadata": {
        "id": "-cw_QSWbFoDQ"
      },
      "outputs": [],
      "source": [
        "# load embedding from file\n",
        "raw_embedding = load_embedding(\"/content/gdrive/MyDrive/Celonis/glove.6B.50d.txt\")\n",
        "# get vectors in the right order\n",
        "embedding_vectors = get_weight_matrix(raw_embedding, tokenizer.word_index)\n",
        "# create the embedding layer\n",
        "embedding_layer = Embedding(vocab_size, 50, weights=[embedding_vectors], input_length=max_length, trainable=False)"
      ]
    },
    {
      "cell_type": "code",
      "execution_count": null,
      "metadata": {
        "id": "BoYJqjrosAUW"
      },
      "outputs": [],
      "source": [
        "import matplotlib.pyplot as plt\n",
        "\n",
        "# function to plot train and validation over epochs\n",
        "def plot_graphs(history, string):\n",
        "    plt.plot(history.history[string])\n",
        "    plt.plot(history.history['val_'+string])\n",
        "    plt.xlabel(\"Epochs\")\n",
        "    plt.ylabel(string)\n",
        "    plt.legend([string, 'val_'+string])\n",
        "    plt.show()"
      ]
    },
    {
      "cell_type": "markdown",
      "source": [
        "Model"
      ],
      "metadata": {
        "id": "GPBF7UPTH-JR"
      }
    },
    {
      "cell_type": "code",
      "source": [
        "model = tf.keras.Sequential([\n",
        "    tf.keras.layers.Embedding(len(word_index) + 1 #input dim\n",
        "                               , embedding_dim #out dim\n",
        "                               , weights=[embedding_vectors] #his is actually the pretrained embedding\n",
        "                               , input_length=max_length \n",
        "                               , trainable=False) # Trainable = True when embedding from scratch\n",
        "\n",
        "    , tf.keras.layers.SpatialDropout1D(0.3)\n",
        "    , tf.keras.layers.Bidirectional(tf.keras.layers.LSTM(embedding_dim\n",
        "                                                         #, activation='relu'\n",
        "                                                         #, dropout=0.0\n",
        "                                                         #, recurrent_dropout=0.0\n",
        "                                                         , return_sequences=True\n",
        "                                                        ))\n",
        "    , tf.keras.layers.Bidirectional(tf.keras.layers.LSTM(embedding_dim\n",
        "                                                         #, activation='relu'\n",
        "                                                         #, dropout=0.0\n",
        "                                                         #, recurrent_dropout=0.0\n",
        "                                                         , return_sequences=True\n",
        "                                                        ))\n",
        "    , tf.keras.layers.Bidirectional(tf.keras.layers.LSTM(embedding_dim\n",
        "                                                         #, activation='relu'\n",
        "                                                         #, dropout=0.0\n",
        "                                                         #, recurrent_dropout=0.0\n",
        "                                                         , return_sequences=True\n",
        "                                                        ))\n",
        "    , tf.keras.layers.Bidirectional(tf.keras.layers.LSTM(embedding_dim\n",
        "                                                         #, activation='relu'\n",
        "                                                         #, dropout=0.0\n",
        "                                                         #, recurrent_dropout=0.0\n",
        "                                                         , return_sequences=False\n",
        "                                                        ))\n",
        "    \n",
        "    , tf.keras.layers.Dense(embedding_dim, activation='relu')\n",
        "    , tf.keras.layers.Dropout(0.3)\n",
        "    \n",
        "    , tf.keras.layers.Dense(3, activation='softmax')\n",
        "\n",
        "])\n",
        "model.compile(loss='categorical_crossentropy'\n",
        "              , optimizer = tf.keras.optimizers.Adam(lr=1e-3)\n",
        "              , metrics=['accuracy'])\n",
        "model.summary()"
      ],
      "metadata": {
        "colab": {
          "base_uri": "https://localhost:8080/"
        },
        "id": "fmim5qo4nZGz",
        "outputId": "74636271-6fa2-4e53-a35f-a733e0ba17f7"
      },
      "execution_count": null,
      "outputs": [
        {
          "output_type": "stream",
          "name": "stdout",
          "text": [
            "Model: \"sequential_3\"\n",
            "_________________________________________________________________\n",
            " Layer (type)                Output Shape              Param #   \n",
            "=================================================================\n",
            " embedding_2 (Embedding)     (None, 129, 50)           1376250   \n",
            "                                                                 \n",
            " spatial_dropout1d_3 (Spatia  (None, 129, 50)          0         \n",
            " lDropout1D)                                                     \n",
            "                                                                 \n",
            " bidirectional_4 (Bidirectio  (None, 129, 100)         40400     \n",
            " nal)                                                            \n",
            "                                                                 \n",
            " bidirectional_5 (Bidirectio  (None, 129, 100)         60400     \n",
            " nal)                                                            \n",
            "                                                                 \n",
            " bidirectional_6 (Bidirectio  (None, 129, 100)         60400     \n",
            " nal)                                                            \n",
            "                                                                 \n",
            " bidirectional_7 (Bidirectio  (None, 100)              60400     \n",
            " nal)                                                            \n",
            "                                                                 \n",
            " dense_3 (Dense)             (None, 50)                5050      \n",
            "                                                                 \n",
            " dropout_1 (Dropout)         (None, 50)                0         \n",
            "                                                                 \n",
            " dense_4 (Dense)             (None, 3)                 153       \n",
            "                                                                 \n",
            "=================================================================\n",
            "Total params: 1,603,053\n",
            "Trainable params: 226,803\n",
            "Non-trainable params: 1,376,250\n",
            "_________________________________________________________________\n"
          ]
        },
        {
          "output_type": "stream",
          "name": "stderr",
          "text": [
            "/usr/local/lib/python3.7/dist-packages/keras/optimizer_v2/adam.py:105: UserWarning: The `lr` argument is deprecated, use `learning_rate` instead.\n",
            "  super(Adam, self).__init__(name, **kwargs)\n"
          ]
        }
      ]
    },
    {
      "cell_type": "code",
      "source": [
        "# fit network\n",
        "history = model.fit(X_train_pad, y_train, epochs=20, verbose=2, validation_data=(X_test_pad, y_test))"
      ],
      "metadata": {
        "colab": {
          "base_uri": "https://localhost:8080/"
        },
        "id": "HXP8GaBHn7-r",
        "outputId": "a129da09-38e2-4be6-bf02-f8dcf36e0da7"
      },
      "execution_count": 35,
      "outputs": [
        {
          "output_type": "stream",
          "name": "stdout",
          "text": [
            "Epoch 1/20\n",
            "1872/1872 - 895s - loss: 0.9298 - accuracy: 0.5406 - val_loss: 0.8264 - val_accuracy: 0.6147 - 895s/epoch - 478ms/step\n",
            "Epoch 2/20\n",
            "1872/1872 - 846s - loss: 0.8299 - accuracy: 0.6083 - val_loss: 0.7602 - val_accuracy: 0.6439 - 846s/epoch - 452ms/step\n",
            "Epoch 3/20\n",
            "1872/1872 - 829s - loss: 0.7832 - accuracy: 0.6345 - val_loss: 0.7281 - val_accuracy: 0.6648 - 829s/epoch - 443ms/step\n",
            "Epoch 4/20\n",
            "1872/1872 - 828s - loss: 0.7501 - accuracy: 0.6528 - val_loss: 0.7042 - val_accuracy: 0.6777 - 828s/epoch - 443ms/step\n",
            "Epoch 5/20\n",
            "1872/1872 - 838s - loss: 0.7258 - accuracy: 0.6661 - val_loss: 0.6743 - val_accuracy: 0.6908 - 838s/epoch - 448ms/step\n",
            "Epoch 6/20\n",
            "1872/1872 - 847s - loss: 0.7021 - accuracy: 0.6819 - val_loss: 0.6496 - val_accuracy: 0.7112 - 847s/epoch - 452ms/step\n",
            "Epoch 7/20\n",
            "1872/1872 - 828s - loss: 0.6786 - accuracy: 0.6948 - val_loss: 0.6345 - val_accuracy: 0.7158 - 828s/epoch - 442ms/step\n",
            "Epoch 8/20\n",
            "1872/1872 - 832s - loss: 0.6595 - accuracy: 0.7036 - val_loss: 0.6002 - val_accuracy: 0.7327 - 832s/epoch - 444ms/step\n",
            "Epoch 9/20\n",
            "1872/1872 - 848s - loss: 0.6374 - accuracy: 0.7166 - val_loss: 0.5949 - val_accuracy: 0.7354 - 848s/epoch - 453ms/step\n",
            "Epoch 10/20\n",
            "1872/1872 - 858s - loss: 0.6188 - accuracy: 0.7276 - val_loss: 0.6001 - val_accuracy: 0.7287 - 858s/epoch - 458ms/step\n",
            "Epoch 11/20\n",
            "1872/1872 - 861s - loss: 0.6007 - accuracy: 0.7355 - val_loss: 0.5625 - val_accuracy: 0.7560 - 861s/epoch - 460ms/step\n",
            "Epoch 12/20\n",
            "1872/1872 - 839s - loss: 0.5914 - accuracy: 0.7413 - val_loss: 0.5447 - val_accuracy: 0.7674 - 839s/epoch - 448ms/step\n",
            "Epoch 13/20\n",
            "1872/1872 - 854s - loss: 0.5719 - accuracy: 0.7496 - val_loss: 0.5352 - val_accuracy: 0.7696 - 854s/epoch - 456ms/step\n",
            "Epoch 14/20\n",
            "1872/1872 - 862s - loss: 0.5631 - accuracy: 0.7557 - val_loss: 0.5304 - val_accuracy: 0.7728 - 862s/epoch - 460ms/step\n",
            "Epoch 15/20\n",
            "1872/1872 - 862s - loss: 0.5473 - accuracy: 0.7655 - val_loss: 0.5045 - val_accuracy: 0.7837 - 862s/epoch - 461ms/step\n",
            "Epoch 16/20\n",
            "1872/1872 - 841s - loss: 0.5301 - accuracy: 0.7722 - val_loss: 0.4986 - val_accuracy: 0.7883 - 841s/epoch - 449ms/step\n",
            "Epoch 17/20\n",
            "1872/1872 - 851s - loss: 0.5194 - accuracy: 0.7775 - val_loss: 0.4885 - val_accuracy: 0.7922 - 851s/epoch - 455ms/step\n",
            "Epoch 18/20\n",
            "1872/1872 - 865s - loss: 0.5121 - accuracy: 0.7811 - val_loss: 0.4830 - val_accuracy: 0.7983 - 865s/epoch - 462ms/step\n",
            "Epoch 19/20\n",
            "1872/1872 - 864s - loss: 0.4976 - accuracy: 0.7874 - val_loss: 0.4757 - val_accuracy: 0.7984 - 864s/epoch - 462ms/step\n",
            "Epoch 20/20\n",
            "1872/1872 - 847s - loss: 0.4888 - accuracy: 0.7936 - val_loss: 0.4666 - val_accuracy: 0.8070 - 847s/epoch - 452ms/step\n"
          ]
        }
      ]
    },
    {
      "cell_type": "code",
      "source": [
        "plot_graphs(history, \"accuracy\")\n",
        "plot_graphs(history, \"loss\")"
      ],
      "metadata": {
        "colab": {
          "base_uri": "https://localhost:8080/",
          "height": 541
        },
        "id": "u_nV0QZbqLKU",
        "outputId": "85255ac2-0979-4aaf-a6b6-f3352b5d3f42"
      },
      "execution_count": 36,
      "outputs": [
        {
          "output_type": "display_data",
          "data": {
            "text/plain": [
              "<Figure size 432x288 with 1 Axes>"
            ],
            "image/png": "[encoded data removed]"
          },
          "metadata": {
            "needs_background": "light"
          }
        },
        {
          "output_type": "display_data",
          "data": {
            "text/plain": [
              "<Figure size 432x288 with 1 Axes>"
            ],
            "image/png": "[encoded data removed]"
          },
          "metadata": {
            "needs_background": "light"
          }
        }
      ]
    },
    {
      "cell_type": "code",
      "source": [
        "# store the model\n",
        "model.save('my_sentiment_model.h5')"
      ],
      "metadata": {
        "id": "jcXotQEWqTeV"
      },
      "execution_count": 37,
      "outputs": []
    },
    {
      "cell_type": "code",
      "source": [
        "#mini test\n",
        "import numpy as np\n",
        "string = 'i feel so dismayed because i still have loads in miniature terms of weird pink clay left and didnt know what to do with it'\n",
        "string = get_clean_text ('hola',string)\n",
        "string = [string]\n",
        "string = tokenizer.texts_to_sequences (string)\n",
        "string = pad_sequences(string, maxlen=max_length, padding='post')\n",
        "pred_string=model.predict(string) \n",
        "classes_x=(np.argmax(pred_string,axis=1)).item()\n",
        "prediction_map ={0: 'Irrelevant', 1: 'Positive', 2: 'Negative'}\n",
        "reply = prediction_map.get(classes_x)\n",
        "reply\n",
        "\n",
        "#{0: 'Irrelevant', 1: 'Positive', 2: 'Negative'}"
      ],
      "metadata": {
        "colab": {
          "base_uri": "https://localhost:8080/",
          "height": 36
        },
        "id": "iSOOaTttq9oZ",
        "outputId": "249cd9d0-4646-4d49-905f-ebee593a0651"
      },
      "execution_count": 57,
      "outputs": [
        {
          "output_type": "execute_result",
          "data": {
            "text/plain": [
              "'Negative'"
            ],
            "application/vnd.google.colaboratory.intrinsic+json": {
              "type": "string"
            }
          },
          "metadata": {},
          "execution_count": 57
        }
      ]
    },
    {
      "cell_type": "code",
      "source": [
        "df.iloc[1].text"
      ],
      "metadata": {
        "colab": {
          "base_uri": "https://localhost:8080/",
          "height": 36
        },
        "id": "XgMJeQeTrbym",
        "outputId": "bf50a33a-52e2-4cbb-89e7-183c81ff7aa0"
      },
      "execution_count": 52,
      "outputs": [
        {
          "output_type": "execute_result",
          "data": {
            "text/plain": [
              "'i feel passionate about people particularly those i love admire and respect'"
            ],
            "application/vnd.google.colaboratory.intrinsic+json": {
              "type": "string"
            }
          },
          "metadata": {},
          "execution_count": 52
        }
      ]
    },
    {
      "cell_type": "code",
      "source": [
        "df.iloc[2].text"
      ],
      "metadata": {
        "colab": {
          "base_uri": "https://localhost:8080/",
          "height": 36
        },
        "id": "o7UCr2OS9i4q",
        "outputId": "33d4d32c-04c1-4ff0-b88b-7d2bbd012cdd"
      },
      "execution_count": 56,
      "outputs": [
        {
          "output_type": "execute_result",
          "data": {
            "text/plain": [
              "'i feel so dismayed because i still have loads in miniature terms of weird pink clay left and didnt know what to do with it'"
            ],
            "application/vnd.google.colaboratory.intrinsic+json": {
              "type": "string"
            }
          },
          "metadata": {},
          "execution_count": 56
        }
      ]
    },
    {
      "cell_type": "code",
      "execution_count": null,
      "metadata": {
        "id": "kLxL2pa7zj_l"
      },
      "outputs": [],
      "source": [
        "# For future use"
      ]
    },
    {
      "cell_type": "code",
      "execution_count": null,
      "metadata": {
        "id": "_wl60GhjuTMF"
      },
      "outputs": [],
      "source": [
        "def get_tone_text(text, upper = .3, exclamation = 3, terminals = \"?!\"):\n",
        "    \n",
        "    # remove whitespaces\n",
        "    text = \"\".join(text.split())\n",
        "    # if a third of the text is uppercase, then 1\n",
        "    x_1 = int(sum(1 for c in text if c.isupper()) / sum(1 for c in text) > upper)\n",
        "    # if more than  in text, 1 \n",
        "    x_1 += int(sum(1 for c in text if c in terminals) > exclamation)\n",
        "    \n",
        "    return x_1"
      ]
    },
    {
      "cell_type": "code",
      "source": [
        "import nltk\n",
        "print('The nltk version is {}.'.format(nltk.__version__))"
      ],
      "metadata": {
        "colab": {
          "base_uri": "https://localhost:8080/"
        },
        "id": "BcWRTr2B3iAT",
        "outputId": "44f0b281-d25f-4ba6-f55e-998cb31e880e"
      },
      "execution_count": 55,
      "outputs": [
        {
          "output_type": "stream",
          "name": "stdout",
          "text": [
            "The nltk version is 3.2.5.\n"
          ]
        }
      ]
    },
    {
      "cell_type": "code",
      "source": [
        ""
      ],
      "metadata": {
        "id": "OXErjIev6iOq"
      },
      "execution_count": null,
      "outputs": []
    }
  ],
  "metadata": {
    "colab": {
      "name": "lstm.ipynb",
      "provenance": []
    },
    "kernelspec": {
      "display_name": "Python 3",
      "name": "python3"
    },
    "language_info": {
      "name": "python"
    }
  },
  "nbformat": 4,
  "nbformat_minor": 0
}