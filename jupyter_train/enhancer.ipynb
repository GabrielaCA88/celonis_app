{
  "nbformat": 4,
  "nbformat_minor": 0,
  "metadata": {
    "colab": {
      "name": "enhancer.ipynb",
      "provenance": []
    },
    "kernelspec": {
      "name": "python3",
      "display_name": "Python 3"
    },
    "language_info": {
      "name": "python"
    }
  },
  "cells": [
    {
      "cell_type": "code",
      "execution_count": null,
      "metadata": {
        "id": "74DWLWJl-7OO"
      },
      "outputs": [],
      "source": [
        "import pandas as pd\n",
        "import numpy as np\n",
        "import nltk\n",
        "nltk.download('stopwords')\n",
        "nltk.download('averaged_perceptron_tagger')\n",
        "nltk.download('wordnet')\n",
        "nltk.download('punkt')\n",
        "#from nltk.corpus import stopwords\n",
        "from nltk.tokenize import WordPunctTokenizer\n",
        "tok = WordPunctTokenizer()\n",
        "from nltk.corpus import stopwords\n",
        "stop_words = set(stopwords.words('english'))\n",
        "import re\n",
        "from google.colab import drive"
      ]
    },
    {
      "cell_type": "code",
      "source": [
        "drive.mount('/content/gdrive')"
      ],
      "metadata": {
        "colab": {
          "base_uri": "https://localhost:8080/"
        },
        "id": "kwD6PPPj_BRT",
        "outputId": "73abda5f-2da2-4540-9d7a-e9e7cade4d6e"
      },
      "execution_count": 82,
      "outputs": [
        {
          "output_type": "stream",
          "name": "stdout",
          "text": [
            "Drive already mounted at /content/gdrive; to attempt to forcibly remount, call drive.mount(\"/content/gdrive\", force_remount=True).\n"
          ]
        }
      ]
    },
    {
      "cell_type": "code",
      "source": [
        "df = pd.read_csv ('/content/gdrive/MyDrive/Celonis/labelled_text.csv', encoding='latin-1', names = ['dunno', 'origin', 'sentiment', 'text'])\n",
        "df = df.sample(frac=1).reset_index(drop=True) #shuffle"
      ],
      "metadata": {
        "id": "CuBQ4Is9_DBH"
      },
      "execution_count": 83,
      "outputs": []
    },
    {
      "cell_type": "code",
      "source": [
        "df['sentiment'] = df['sentiment'].replace('Neutral' ,'Irrelevant')"
      ],
      "metadata": {
        "id": "KPB_ghRJhMf1"
      },
      "execution_count": 84,
      "outputs": []
    },
    {
      "cell_type": "code",
      "source": [
        "df.groupby(['sentiment']).size().plot(kind = \"bar\")"
      ],
      "metadata": {
        "colab": {
          "base_uri": "https://localhost:8080/",
          "height": 335
        },
        "id": "DP3yTtTYAd8e",
        "outputId": "33028f0f-72da-47c2-80a8-b51c80a0f56e"
      },
      "execution_count": 85,
      "outputs": [
        {
          "output_type": "execute_result",
          "data": {
            "text/plain": [
              "<matplotlib.axes._subplots.AxesSubplot at 0x7f56bbab1dd0>"
            ]
          },
          "metadata": {},
          "execution_count": 85
        },
        {
          "output_type": "display_data",
          "data": {
            "text/plain": [
              "<Figure size 432x288 with 1 Axes>"
            ],
            "image/png": "[encoded data removed]"
          },
          "metadata": {
            "needs_background": "light"
          }
        }
      ]
    },
    {
      "cell_type": "markdown",
      "source": [
        "# Kaggle dataset\n",
        "\n",
        "For the purpose of solving the imbalance situation, I searched for more data with similar structure. "
      ],
      "metadata": {
        "id": "AQlK0fG0voGM"
      }
    },
    {
      "cell_type": "code",
      "source": [
        "df_train = pd.read_csv(\"/content/gdrive/MyDrive/Celonis/train.txt\",delimiter=';',names=['text','label'])"
      ],
      "metadata": {
        "id": "7cDCE8v1vY7-"
      },
      "execution_count": 87,
      "outputs": []
    },
    {
      "cell_type": "code",
      "source": [
        "def custom_encoder(df):\n",
        "    df.replace(to_replace =\"surprise\", value ='Positive', inplace=True)\n",
        "    df.replace(to_replace =\"love\", value ='Positive', inplace=True)\n",
        "    df.replace(to_replace =\"joy\", value ='Positive', inplace=True)\n",
        "    df.replace(to_replace =\"fear\", value ='Negative', inplace=True)\n",
        "    df.replace(to_replace =\"anger\", value ='Negative', inplace=True)\n",
        "    df.replace(to_replace =\"sadness\", value ='Negative', inplace=True)"
      ],
      "metadata": {
        "id": "BJ03PXnwv1BG"
      },
      "execution_count": 88,
      "outputs": []
    },
    {
      "cell_type": "code",
      "source": [
        "custom_encoder(df_train['label'])"
      ],
      "metadata": {
        "id": "sLVYIVCtwIec"
      },
      "execution_count": 90,
      "outputs": []
    },
    {
      "cell_type": "code",
      "source": [
        "df_train.groupby(['label']).size().plot(kind = \"bar\")"
      ],
      "metadata": {
        "colab": {
          "base_uri": "https://localhost:8080/",
          "height": 332
        },
        "id": "Y1Gdbiz9wfYj",
        "outputId": "2ee83abc-22ad-4ad2-899b-f26010d0324a"
      },
      "execution_count": 92,
      "outputs": [
        {
          "output_type": "execute_result",
          "data": {
            "text/plain": [
              "<matplotlib.axes._subplots.AxesSubplot at 0x7f56bb72e690>"
            ]
          },
          "metadata": {},
          "execution_count": 92
        },
        {
          "output_type": "display_data",
          "data": {
            "text/plain": [
              "<Figure size 432x288 with 1 Axes>"
            ],
            "image/png": "[encoded data removed]"
          },
          "metadata": {
            "needs_background": "light"
          }
        }
      ]
    },
    {
      "cell_type": "code",
      "source": [
        "df_train.columns"
      ],
      "metadata": {
        "colab": {
          "base_uri": "https://localhost:8080/"
        },
        "id": "lM76OiNjwqnX",
        "outputId": "da3e45ec-a965-4d51-f20c-eaae3543502a"
      },
      "execution_count": 93,
      "outputs": [
        {
          "output_type": "execute_result",
          "data": {
            "text/plain": [
              "Index(['text', 'label'], dtype='object')"
            ]
          },
          "metadata": {},
          "execution_count": 93
        }
      ]
    },
    {
      "cell_type": "code",
      "source": [
        "df_train.columns = df_train.columns.str.replace('label', 'sentiment')\n",
        "frames = [df_train, df]\n",
        "result = pd.concat (frames)"
      ],
      "metadata": {
        "id": "YPxE0msCw527"
      },
      "execution_count": 94,
      "outputs": []
    },
    {
      "cell_type": "code",
      "source": [
        "result.groupby(['sentiment']).size().plot(kind = \"bar\")"
      ],
      "metadata": {
        "colab": {
          "base_uri": "https://localhost:8080/",
          "height": 335
        },
        "id": "HcY0nCVyxHYf",
        "outputId": "af1fd348-6149-4437-a602-97e9843e03a1"
      },
      "execution_count": 95,
      "outputs": [
        {
          "output_type": "execute_result",
          "data": {
            "text/plain": [
              "<matplotlib.axes._subplots.AxesSubplot at 0x7f56bb5c64d0>"
            ]
          },
          "metadata": {},
          "execution_count": 95
        },
        {
          "output_type": "display_data",
          "data": {
            "text/plain": [
              "<Figure size 432x288 with 1 Axes>"
            ],
            "image/png": "[encoded data removed]"
          },
          "metadata": {
            "needs_background": "light"
          }
        }
      ]
    },
    {
      "cell_type": "markdown",
      "source": [
        "Solved. I know have another training dataset with more vocabulary and a less problematic imbalance situation."
      ],
      "metadata": {
        "id": "CDU9act363QO"
      }
    },
    {
      "cell_type": "code",
      "source": [
        "result.to_csv ('pluskaggle.csv', index = False)"
      ],
      "metadata": {
        "id": "QW3TFi_rxSlK"
      },
      "execution_count": 96,
      "outputs": []
    },
    {
      "cell_type": "markdown",
      "source": [
        "Movies\n",
        "\n",
        "Before trying with the kaggle dataset I analyzed a movies dataset but the structure of the sentences differed (for example length of the sentences. Mix of positive and negative words in the same context, etc.) and therefore after some analysis I chose the dataset mentioned above. "
      ],
      "metadata": {
        "id": "sSEip7t1vXu1"
      }
    }
  ]
}