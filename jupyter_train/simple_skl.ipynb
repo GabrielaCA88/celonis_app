{
  "nbformat": 4,
  "nbformat_minor": 0,
  "metadata": {
    "colab": {
      "name": "simple_skl.ipynb",
      "provenance": []
    },
    "kernelspec": {
      "name": "python3",
      "display_name": "Python 3"
    },
    "language_info": {
      "name": "python"
    }
  },
  "cells": [
    {
      "cell_type": "markdown",
      "source": [
        "Imports"
      ],
      "metadata": {
        "id": "IAMCIikNB-V8"
      }
    },
    {
      "cell_type": "code",
      "execution_count": null,
      "metadata": {
        "id": "CAzHVaUGm29p"
      },
      "outputs": [],
      "source": [
        "import pandas as pd\n",
        "import numpy as np\n",
        "\n",
        "import nltk\n",
        "nltk.download('stopwords')\n",
        "nltk.download('averaged_perceptron_tagger')\n",
        "nltk.download('wordnet')\n",
        "nltk.download('punkt')\n",
        "#from nltk.corpus import stopwords\n",
        "from nltk.tokenize import WordPunctTokenizer\n",
        "tok = WordPunctTokenizer()\n",
        "from nltk.corpus import stopwords\n",
        "stop_words = set(stopwords.words('english'))\n",
        "from nltk.stem import WordNetLemmatizer\n",
        "wordnet_lemmatizer = WordNetLemmatizer()\n",
        "from nltk.corpus import wordnet\n",
        "import re\n",
        "\n",
        "from google.colab import drive\n",
        "\n",
        "from sklearn.model_selection import train_test_split\n",
        "from sklearn.feature_extraction.text import TfidfVectorizer\n",
        "from sklearn.metrics import confusion_matrix, classification_report\n",
        "\n",
        "from sklearn.svm import LinearSVC\n",
        "from sklearn.ensemble import RandomForestClassifier\n",
        "from sklearn.model_selection import GridSearchCV\n",
        "from sklearn.neural_network import MLPClassifier"
      ]
    },
    {
      "cell_type": "markdown",
      "source": [
        "Dataset"
      ],
      "metadata": {
        "id": "dD8xwHaLCpXB"
      }
    },
    {
      "cell_type": "code",
      "source": [
        "drive.mount('/content/gdrive')\n",
        "#df = pd.read_csv ('/content/gdrive/MyDrive/Celonis/labelled_text.csv', encoding='latin-1')\n",
        "df = pd.read_csv ('/content/gdrive/MyDrive/Celonis/pluskaggle.csv')\n",
        "df = df.sample(frac=1).reset_index(drop=True) #shuffle"
      ],
      "metadata": {
        "id": "pbP23lILnQqN"
      },
      "execution_count": null,
      "outputs": []
    },
    {
      "cell_type": "code",
      "source": [
        "# from io import StringIO\n",
        "col = ['sentiment', 'origin','text']\n",
        "df = df[col]\n",
        "df = df[pd.notnull(df['text'])]"
      ],
      "metadata": {
        "id": "pMOnNNmNvqUD"
      },
      "execution_count": null,
      "outputs": []
    },
    {
      "cell_type": "code",
      "source": [
        "df['sentiment_id'] = df['sentiment'].factorize()[0]\n",
        "sentiment_id_df = df[['sentiment', 'sentiment_id']].drop_duplicates().sort_values('sentiment_id')\n",
        "sentiment_to_id = dict(sentiment_id_df.values)\n",
        "id_to_sentiment = dict(sentiment_id_df[['sentiment_id', 'sentiment']].values)\n",
        "#df.head()\n",
        "print (id_to_sentiment) #{0: 'Negative', 1: 'Positive', 2: 'Irrelevant'}"
      ],
      "metadata": {
        "id": "QYb8GB6ivU3N",
        "colab": {
          "base_uri": "https://localhost:8080/"
        },
        "outputId": "e73f982d-f5d0-4c88-f799-4b7f310ddcd4"
      },
      "execution_count": null,
      "outputs": [
        {
          "output_type": "stream",
          "name": "stdout",
          "text": [
            "{0: 'Negative', 1: 'Positive', 2: 'Irrelevant'}\n"
          ]
        }
      ]
    },
    {
      "cell_type": "markdown",
      "source": [
        "Pre processing"
      ],
      "metadata": {
        "id": "2cUhs1Y5C1O5"
      }
    },
    {
      "cell_type": "code",
      "source": [
        "#Preparo las funciones para normalizar, lematizar y eliminar stopwords. \n",
        "\n",
        "def get_wordnet_pos(word):\n",
        "    \"\"\"Map POS tag to first character lemmatize() accepts\"\"\"\n",
        "    tag = nltk.pos_tag([word])[0][1][0].upper()\n",
        "    tag_dict = {\"J\": wordnet.ADJ,\n",
        "                \"N\": wordnet.NOUN,\n",
        "                \"V\": wordnet.VERB,\n",
        "                \"R\": wordnet.ADV}\n",
        "\n",
        "    return tag_dict.get(tag, wordnet.NOUN)"
      ],
      "metadata": {
        "id": "-q3eZnEvra3J"
      },
      "execution_count": null,
      "outputs": []
    },
    {
      "cell_type": "code",
      "source": [
        "pat1 = r'http[^ ]+' # pattern to remove links\n",
        "pat2 = r'www.[^ ]+' # pattern to remove links\n",
        "pat3 = '[^a-zA-Z]+' # pattern to remove numbers\n",
        "pat = r'|'.join((pat1, pat2, pat3))\n",
        "\n",
        "filtrar=['borderlands', 'callofdutyblackopscoldwar', 'amazon', 'overwatch', 'xbox(xseries)', 'nba2k', 'dota2', 'playstation5(ps5)', 'worldofcraft', 'csgo', 'google', 'assassinscreed', 'apexlegends',\n",
        "       'leagueoflegends', 'fortnite', 'microsoft', 'hearthstone', 'battlefield', 'playerunknownsbattlegrounds(pubg)', 'verizon', 'homedepot', 'fifa', 'reddeadredemption(rdr)', 'callofduty',\n",
        "       'tomclancysrainbowsix', 'facebook', 'grandtheftauto(gta)', 'maddennfl', 'johnson&johnson', 'cyberpunk2077', 'tomclancysghostrecon', 'nvidia']\n",
        "\n",
        "filtrar2=['borderlands', 'callofdutyblackopscoldwar', 'amazon', 'overwatch', 'xbox(xseries)', 'nba2k', 'dota2', 'playstation5(ps5)', 'worldofcraft', 'csgo', 'google', 'assassinscreed', 'apexlegends',\n",
        "       'leagueoflegends', 'fortnite', 'microsoft', 'hearthstone', 'battlefield', 'playerunknownsbattlegrounds(pubg)', 'verizon', 'homedepot', 'fifa', 'reddeadredemption(rdr)', 'callofduty',\n",
        "       'tomclancysrainbowsix', 'facebook', 'grandtheftauto(gta)', 'maddennfl', 'johnson&johnson', 'cyberpunk2077', 'tomclancysghostrecon', 'nvidia', 'game']\n",
        "\n",
        "games_origin = ['borderlands', 'callofdutyblackopscoldwar','overwatch', 'nba2k','dota2', 'worldofcraft', 'csgo', 'assassinscreed', 'apexlegends', \n",
        "                'leagueoflegends', 'fortnite', 'hearthstone', 'battlefield', 'playerunknownsbattlegrounds(pubg)', 'fifa', 'reddeadredemption(rdr)', 'callofduty',\n",
        "                'tomclancysrainbowsix','grandtheftauto(gta)', 'maddennfl', 'cyberpunk2077', 'tomclancysghostrecon']\n",
        "\n",
        "def get_clean_text (origin, text):\n",
        "    origin = str (origin)\n",
        "    origin = origin.lower()\n",
        "    text = str (text)\n",
        "    text = text.lower() # lowercase\n",
        "    if origin in games_origin:\n",
        "      text = re.sub(pat, ' ', text) # remove pat\n",
        "      text = [w for w in tok.tokenize(text) if not w in stop_words] # remove stop_words\n",
        "      text = [w for w in text if w not in filtrar2]\n",
        "      text = [w for w in text if len(w)>2] # remove words with len <2\n",
        "      text = [wordnet_lemmatizer.lemmatize(w, get_wordnet_pos(w)) for w in text] # Aplicamos el Lemmatizer\n",
        "      text = (' '.join(text)).strip() # list to string\n",
        "    else:\n",
        "      text = re.sub(pat, ' ', text) # remove pat\n",
        "      text = [w for w in tok.tokenize(text) if not w in stop_words] # remove stop_words\n",
        "      text = [w for w in text if w not in filtrar]\n",
        "      text = [w for w in text if len(w)>2] # remove words with len <2\n",
        "      text = [wordnet_lemmatizer.lemmatize(w, get_wordnet_pos(w)) for w in text] # Aplicamos el Lemmatizer\n",
        "      text = (' '.join(text)).strip() # list to string      \n",
        "    return text"
      ],
      "metadata": {
        "id": "x3GyPtbCriJo"
      },
      "execution_count": null,
      "outputs": []
    },
    {
      "cell_type": "code",
      "source": [
        "df['text_clean'] = df.apply(lambda x: get_clean_text(x.origin, x.text), axis=1)\n",
        "df.drop_duplicates(subset='text_clean', keep=\"first\", inplace=True)"
      ],
      "metadata": {
        "id": "Td1pWSpArbBU"
      },
      "execution_count": null,
      "outputs": []
    },
    {
      "cell_type": "code",
      "source": [
        "X_train, X_test, y_train, y_test = train_test_split(\n",
        "    df.text_clean, df.sentiment_id, test_size = 0.20, stratify=df.sentiment_id, random_state = 12)"
      ],
      "metadata": {
        "id": "exFMLWvPpPOl"
      },
      "execution_count": null,
      "outputs": []
    },
    {
      "cell_type": "markdown",
      "source": [
        "Tokenization."
      ],
      "metadata": {
        "id": "QpprPe0iDI6d"
      }
    },
    {
      "cell_type": "code",
      "source": [
        "tokenizer=nltk.tokenize.word_tokenize\n",
        "#tfidf \n",
        "tfidf_vect = TfidfVectorizer (tokenizer=tokenizer, min_df=2, ngram_range=(1,2))\n",
        "# fit transform to train and transform of test\n",
        "X_train = tfidf_vect.fit_transform (X_train)\n",
        "X_test= tfidf_vect.transform (X_test)"
      ],
      "metadata": {
        "id": "sRD5wxDzp5j1"
      },
      "execution_count": null,
      "outputs": []
    },
    {
      "cell_type": "code",
      "source": [
        "# Dump the file\n",
        "import pickle\n",
        "pickle.dump(tfidf_vect, open(\"tfidf1.pkl\", \"wb\"))"
      ],
      "metadata": {
        "id": "nEEsr0yIxBhu"
      },
      "execution_count": null,
      "outputs": []
    },
    {
      "cell_type": "markdown",
      "source": [
        "A confusion matrix function to study my results"
      ],
      "metadata": {
        "id": "lUcipKMaDYh4"
      }
    },
    {
      "cell_type": "code",
      "source": [
        "import numpy as np\n",
        "import itertools\n",
        "import matplotlib.pylab as plt\n",
        "def plot_confusion_matrix(cm, classes,\n",
        "                          normalize=False,\n",
        "                          title='Confusion matrix',\n",
        "                          cmap=plt.cm.Blues):\n",
        "    \"\"\"\n",
        "    This function prints and plots the confusion matrix.\n",
        "    Normalization can be applied by setting `normalize=True`.\n",
        "    \"\"\"\n",
        "    if normalize:\n",
        "        cm = cm.astype('float') / cm.sum(axis=1)[:, np.newaxis]\n",
        "        print(\"Normalized confusion matrix\")\n",
        "    else:\n",
        "        print('Confusion matrix, without normalization')\n",
        "\n",
        "    print(cm)\n",
        "\n",
        "    plt.imshow(cm, interpolation='nearest', cmap=cmap)\n",
        "    plt.title(title)\n",
        "    plt.colorbar()\n",
        "    tick_marks = np.arange(len(classes))\n",
        "    plt.xticks(tick_marks, classes, rotation=45)\n",
        "    plt.yticks(tick_marks, classes)\n",
        "\n",
        "    fmt = '.2f' if normalize else 'd'\n",
        "    thresh = cm.max() / 2.\n",
        "    for i, j in itertools.product(range(cm.shape[0]), range(cm.shape[1])):\n",
        "        plt.text(j, i, format(cm[i, j], fmt),\n",
        "                 horizontalalignment=\"center\",\n",
        "                 color=\"white\" if cm[i, j] > thresh else \"black\")\n",
        "\n",
        "    plt.tight_layout()\n",
        "    plt.ylabel('True label')\n",
        "    plt.xlabel('Predicted label')\n",
        "    plt.show()"
      ],
      "metadata": {
        "id": "hL_SYwjAsD2I"
      },
      "execution_count": null,
      "outputs": []
    },
    {
      "cell_type": "markdown",
      "source": [
        "I have performed a simple analysis with several models that I thought that could perform correctly. \n",
        "Once I selected the best one I carried out a grid search to fine tune. "
      ],
      "metadata": {
        "id": "0nBQhVwlDifd"
      }
    },
    {
      "cell_type": "code",
      "source": [
        "#SVC\n",
        "# SVC= LinearSVC (random_state=12,multi_class='ovr')\n",
        "\n",
        "# SVC.fit(X_train,y_train)\n",
        "\n",
        "# # param_grid = {'loss': ['hinge', 'squared_hinge']}\n",
        "\n",
        "# # grid_search = GridSearchCV(SVC, param_grid=param_grid, cv=5, \n",
        "# #                            scoring='accuracy', #https://scikit-learn.org/stable/modules/model_evaluation.html\n",
        "# #                            return_train_score=True)\n",
        "\n",
        "SVC= LinearSVC (random_state=12, multi_class='ovr', loss = 'squared_hinge')\n",
        "SVC.fit (X_train,y_train)\n",
        "optimised_svm = SVC"
      ],
      "metadata": {
        "id": "ddjkFiwLqNCp"
      },
      "execution_count": null,
      "outputs": []
    },
    {
      "cell_type": "code",
      "source": [
        "# # Mostrá la matriz de confusión en esta celda\n",
        "y_pred= optimised_svm.predict(X_test)\n",
        "\n",
        "from sklearn.metrics import confusion_matrix\n",
        "cnf_matrix = confusion_matrix(y_test, y_pred)\n",
        "plot_confusion_matrix(cnf_matrix,id_to_sentiment)"
      ],
      "metadata": {
        "id": "TmB2UDOAsHZ1",
        "colab": {
          "base_uri": "https://localhost:8080/",
          "height": 383
        },
        "outputId": "3783aae3-35fe-4295-cbb3-fb45ac0d81a3"
      },
      "execution_count": null,
      "outputs": [
        {
          "output_type": "stream",
          "name": "stdout",
          "text": [
            "Confusion matrix, without normalization\n",
            "[[5020  156  156]\n",
            " [ 213 4175  169]\n",
            " [ 160  160 4764]]\n"
          ]
        },
        {
          "output_type": "display_data",
          "data": {
            "text/plain": [
              "<Figure size 432x288 with 2 Axes>"
            ],
            "image/png": "[encoded data removed]"
          },
          "metadata": {
            "needs_background": "light"
          }
        }
      ]
    },
    {
      "cell_type": "code",
      "source": [
        "from sklearn.metrics import classification_report\n",
        "print(classification_report(y_test, y_pred)) #{0: 'Negative', 1: 'Positive', 2: 'Irrelevant'}"
      ],
      "metadata": {
        "id": "0ZdPZgAesJtS",
        "colab": {
          "base_uri": "https://localhost:8080/"
        },
        "outputId": "8ed4a0d5-a415-4662-f5c7-f1783ffb49b8"
      },
      "execution_count": null,
      "outputs": [
        {
          "output_type": "stream",
          "name": "stdout",
          "text": [
            "              precision    recall  f1-score   support\n",
            "\n",
            "           0       0.93      0.94      0.94      5332\n",
            "           1       0.93      0.92      0.92      4557\n",
            "           2       0.94      0.94      0.94      5084\n",
            "\n",
            "    accuracy                           0.93     14973\n",
            "   macro avg       0.93      0.93      0.93     14973\n",
            "weighted avg       0.93      0.93      0.93     14973\n",
            "\n"
          ]
        }
      ]
    },
    {
      "cell_type": "code",
      "source": [
        "#Training over complete dataset\n",
        "X = tfidf_vect.transform (df.text_clean)\n",
        "y = df.sentiment_id"
      ],
      "metadata": {
        "id": "U9UOXQHCWkBM"
      },
      "execution_count": null,
      "outputs": []
    },
    {
      "cell_type": "code",
      "source": [
        "from sklearn.svm import LinearSVC\n",
        "SVC= LinearSVC (random_state=12, multi_class='ovr', loss = 'squared_hinge')\n",
        "SVC.fit (X,y)\n",
        "total_svm = SVC"
      ],
      "metadata": {
        "id": "SOi5O4c2XIeD"
      },
      "execution_count": null,
      "outputs": []
    },
    {
      "cell_type": "code",
      "source": [
        "import joblib\n",
        "joblib.dump(total_svm, 'sentiment_svm.pkl') "
      ],
      "metadata": {
        "colab": {
          "base_uri": "https://localhost:8080/"
        },
        "id": "4MpFkjniYG1K",
        "outputId": "66027790-3fe6-4e48-b5dc-978f432afed8"
      },
      "execution_count": null,
      "outputs": [
        {
          "output_type": "execute_result",
          "data": {
            "text/plain": [
              "['sentiment_svm.pkl']"
            ]
          },
          "metadata": {},
          "execution_count": 22
        }
      ]
    },
    {
      "cell_type": "code",
      "source": [
        "#mini test\n",
        "prediction_map = {0: 'Negative message', 1: 'Positive message', 2: 'Irrelevant message'}\n",
        "string = 'This is a very good day'\n",
        "string = get_clean_text ('hola',string)\n",
        "string = [string]\n",
        "string = tfidf_vect.transform (string)\n",
        "pred_string = (total_svm.predict (string).item())\n",
        "print (pred_string)\n",
        "print (prediction_map.get(pred_string))"
      ],
      "metadata": {
        "colab": {
          "base_uri": "https://localhost:8080/"
        },
        "id": "F-Qvg_2mcnxy",
        "outputId": "c50b47f8-2a4b-4161-afda-862afc46fa7c"
      },
      "execution_count": null,
      "outputs": [
        {
          "output_type": "stream",
          "name": "stdout",
          "text": [
            "1\n",
            "Positive message\n"
          ]
        }
      ]
    },
    {
      "cell_type": "markdown",
      "source": [
        "# Other models"
      ],
      "metadata": {
        "id": "tCw593aJCiH6"
      }
    },
    {
      "cell_type": "code",
      "source": [
        "rfc = RandomForestClassifier(random_state=12)\n",
        "rfc.fit (X_train,y_train)\n",
        "optimised_rf = rfc "
      ],
      "metadata": {
        "id": "v07mMpZQsWM7",
        "colab": {
          "base_uri": "https://localhost:8080/"
        },
        "outputId": "36cef5cb-f057-49a1-a283-ffc938fd15ad"
      },
      "execution_count": null,
      "outputs": [
        {
          "output_type": "execute_result",
          "data": {
            "text/plain": [
              "RandomForestClassifier(random_state=12)"
            ]
          },
          "metadata": {},
          "execution_count": 20
        }
      ]
    },
    {
      "cell_type": "code",
      "source": [
        "y_pred= optimised_rf.predict(X_test)\n",
        "\n",
        "cnf_matrix = confusion_matrix(y_test, y_pred)\n",
        "plot_confusion_matrix(cnf_matrix,id_to_sentiment)\n",
        "print(classification_report(y_test, y_pred))"
      ],
      "metadata": {
        "colab": {
          "base_uri": "https://localhost:8080/",
          "height": 564
        },
        "id": "lxlyCnd_DMFI",
        "outputId": "6dacadef-d938-49ba-f23d-9d5e785cdc2e"
      },
      "execution_count": null,
      "outputs": [
        {
          "output_type": "stream",
          "name": "stdout",
          "text": [
            "Confusion matrix, without normalization\n",
            "[[4893  207  234]\n",
            " [ 218 4621  240]\n",
            " [ 318  248 3994]]\n"
          ]
        },
        {
          "output_type": "display_data",
          "data": {
            "text/plain": [
              "<Figure size 432x288 with 2 Axes>"
            ],
            "image/png": "[encoded data removed]"
          },
          "metadata": {
            "needs_background": "light"
          }
        },
        {
          "output_type": "stream",
          "name": "stdout",
          "text": [
            "              precision    recall  f1-score   support\n",
            "\n",
            "           0       0.90      0.92      0.91      5334\n",
            "           1       0.91      0.91      0.91      5079\n",
            "           2       0.89      0.88      0.88      4560\n",
            "\n",
            "    accuracy                           0.90     14973\n",
            "   macro avg       0.90      0.90      0.90     14973\n",
            "weighted avg       0.90      0.90      0.90     14973\n",
            "\n"
          ]
        }
      ]
    },
    {
      "cell_type": "code",
      "source": [
        "mlp_clf = MLPClassifier(random_state=12)\n",
        "mlp_clf.fit (X_train,y_train)\n",
        "optimised_mlp = mlp_clf"
      ],
      "metadata": {
        "colab": {
          "base_uri": "https://localhost:8080/"
        },
        "id": "pQ0yILqNDO8R",
        "outputId": "d5e7a7d9-ef14-406f-8e59-02db05a5c258"
      },
      "execution_count": null,
      "outputs": [
        {
          "output_type": "execute_result",
          "data": {
            "text/plain": [
              "MLPClassifier(random_state=12)"
            ]
          },
          "metadata": {},
          "execution_count": 21
        }
      ]
    },
    {
      "cell_type": "code",
      "source": [
        "y_pred= optimised_mlp.predict(X_test)\n",
        "cnf_matrix = confusion_matrix(y_test, y_pred)\n",
        "plot_confusion_matrix(cnf_matrix,id_to_sentiment)\n",
        "print(classification_report(y_test, y_pred)) #, target_names=id_to_sentiment.get(y_pred)"
      ],
      "metadata": {
        "id": "PwCnIfs1DT1N",
        "colab": {
          "base_uri": "https://localhost:8080/",
          "height": 601
        },
        "outputId": "222162ef-b891-4b36-8b74-e87dc0bce1ca"
      },
      "execution_count": null,
      "outputs": [
        {
          "output_type": "stream",
          "name": "stdout",
          "text": [
            "Confusion matrix, without normalization\n",
            "[[2710  109   64   99]\n",
            " [  71 3343   91  101]\n",
            " [  49   88 1866   98]\n",
            " [ 103  117  114 2789]]\n"
          ]
        },
        {
          "output_type": "display_data",
          "data": {
            "text/plain": [
              "<Figure size 432x288 with 2 Axes>"
            ],
            "image/png": "[encoded data removed]"
          },
          "metadata": {
            "needs_background": "light"
          }
        },
        {
          "output_type": "stream",
          "name": "stdout",
          "text": [
            "              precision    recall  f1-score   support\n",
            "\n",
            "           0       0.92      0.91      0.92      2982\n",
            "           1       0.91      0.93      0.92      3606\n",
            "           2       0.87      0.89      0.88      2101\n",
            "           3       0.90      0.89      0.90      3123\n",
            "\n",
            "    accuracy                           0.91     11812\n",
            "   macro avg       0.90      0.90      0.90     11812\n",
            "weighted avg       0.91      0.91      0.91     11812\n",
            "\n"
          ]
        }
      ]
    },
    {
      "cell_type": "code",
      "source": [
        "import xgboost as xgb\n",
        "clf_XGB = xgb.XGBClassifier()\n",
        "clf_XGB.fit(X_train, y_train)\n",
        "\n",
        "y_pred= clf_XGB.predict(X_test)\n",
        "\n",
        "##Mostrá los resultados de la predicción del random forest sobre el conjunto de test con una matriz de confusión\n",
        "from sklearn.metrics import confusion_matrix\n",
        "cnf_matrix = confusion_matrix(y_test, y_pred)\n",
        "plot_confusion_matrix(cnf_matrix,id_to_sentiment)\n",
        "\n",
        "from sklearn.metrics import classification_report\n",
        "print(classification_report(y_test, y_pred)) #, target_names=id_to_sentiment.get(y_pred)\n"
      ],
      "metadata": {
        "id": "C124GUfZiSVq"
      },
      "execution_count": null,
      "outputs": []
    },
    {
      "cell_type": "code",
      "source": [
        "from sklearn.ensemble import VotingClassifier\n",
        "from sklearn.metrics import accuracy_score\n",
        "\n",
        "voting_clf = VotingClassifier(\n",
        "estimators=[('svc', SVC), ('rf', optimised_rf), ('mlp', optimised_mlp)],voting='hard') \n",
        "trained_voting_clf = voting_clf.fit(X_train, y_train)\n",
        "for clf in (optimised_rf, optimised_mlp, voting_clf,SVC):\n",
        "    y_pred = clf.predict(X_test)\n",
        "    print(clf.__class__.__name__, accuracy_score(y_test, y_pred))"
      ],
      "metadata": {
        "id": "2lYHCegNDbpB",
        "colab": {
          "base_uri": "https://localhost:8080/"
        },
        "outputId": "ad7a4a30-938d-4e77-8c38-23228b103fe2"
      },
      "execution_count": null,
      "outputs": [
        {
          "output_type": "stream",
          "name": "stdout",
          "text": [
            "RandomForestClassifier 0.8944293938367761\n",
            "MLPClassifier 0.9065357263799526\n",
            "VotingClassifier 0.9265154080596004\n",
            "LinearSVC 0.9265154080596004\n"
          ]
        }
      ]
    },
    {
      "cell_type": "code",
      "source": [
        "import sklearn\n",
        "print('The scikit-learn version is {}.'.format(sklearn.__version__))"
      ],
      "metadata": {
        "colab": {
          "base_uri": "https://localhost:8080/"
        },
        "id": "s7ojbqnGZnYC",
        "outputId": "faefa6af-df60-4cb7-a11a-4bdb3470e668"
      },
      "execution_count": null,
      "outputs": [
        {
          "output_type": "stream",
          "name": "stdout",
          "text": [
            "The scikit-learn version is 1.0.2.\n"
          ]
        }
      ]
    },
    {
      "cell_type": "code",
      "source": [
        "print('The nltk version is {}.'.format(nltk.__version__))"
      ],
      "metadata": {
        "colab": {
          "base_uri": "https://localhost:8080/"
        },
        "id": "nPxZ5Ud8Z6BW",
        "outputId": "a2f8a6c3-dd8f-490e-db8d-63260332d047"
      },
      "execution_count": null,
      "outputs": [
        {
          "output_type": "stream",
          "name": "stdout",
          "text": [
            "The nltk version is 3.2.5.\n"
          ]
        }
      ]
    }
  ]
}